{
 "cells": [
  {
   "cell_type": "code",
   "execution_count": 1,
   "id": "5cb1341d",
   "metadata": {},
   "outputs": [],
   "source": [
    "# Tuple\n",
    "# -Indexing\n",
    "# -Ordered\n",
    "# -Duplicate and multiple data\n",
    "# -Imutable"
   ]
  },
  {
   "cell_type": "code",
   "execution_count": 2,
   "id": "c00a5ded",
   "metadata": {},
   "outputs": [
    {
     "name": "stdout",
     "output_type": "stream",
     "text": [
      "<class 'tuple'>\n",
      "<class 'tuple'>\n"
     ]
    }
   ],
   "source": [
    "a = (1,2,3,4,5)\n",
    "b = tuple()\n",
    "print(type(a))\n",
    "print(type(b))"
   ]
  },
  {
   "cell_type": "code",
   "execution_count": 3,
   "id": "03aba6fe",
   "metadata": {},
   "outputs": [
    {
     "name": "stdout",
     "output_type": "stream",
     "text": [
      "Apple\n",
      "Ball\n",
      "Cat\n"
     ]
    }
   ],
   "source": [
    "a = (\"Apple\",\"Ball\",\"Cat\",\"Dog\",\"Fish\")\n",
    "print(a[0])\n",
    "print(a[1])\n",
    "print(a[2])"
   ]
  },
  {
   "cell_type": "code",
   "execution_count": 4,
   "id": "2861045b",
   "metadata": {},
   "outputs": [
    {
     "name": "stdout",
     "output_type": "stream",
     "text": [
      "('Apple', 'Ball', 'Cat', 'Dog')\n"
     ]
    }
   ],
   "source": [
    "a = (\"Apple\",\"Ball\",\"Cat\",\"Dog\",\"Fish\")\n",
    "print(a[0:4])"
   ]
  },
  {
   "cell_type": "code",
   "execution_count": 5,
   "id": "50b3c603",
   "metadata": {},
   "outputs": [
    {
     "name": "stdout",
     "output_type": "stream",
     "text": [
      "('Apple', 'Cat', 'Fish')\n"
     ]
    }
   ],
   "source": [
    "a = (\"Apple\",\"Ball\",\"Cat\",\"Dog\",\"Fish\")\n",
    "print(a[::2])"
   ]
  },
  {
   "cell_type": "code",
   "execution_count": 6,
   "id": "8961cb79",
   "metadata": {},
   "outputs": [
    {
     "name": "stdout",
     "output_type": "stream",
     "text": [
      "('Fish', 'Dog', 'Cat', 'Ball', 'Apple')\n"
     ]
    }
   ],
   "source": [
    "a = (\"Apple\",\"Ball\",\"Cat\",\"Dog\",\"Fish\")\n",
    "print(a[::-1])"
   ]
  },
  {
   "cell_type": "code",
   "execution_count": 7,
   "id": "99766f33",
   "metadata": {},
   "outputs": [
    {
     "data": {
      "text/plain": [
       "'nohtyP'"
      ]
     },
     "execution_count": 7,
     "metadata": {},
     "output_type": "execute_result"
    }
   ],
   "source": [
    "a = \"Python\"\n",
    "a[::-1]"
   ]
  },
  {
   "cell_type": "code",
   "execution_count": 8,
   "id": "c1a23c26",
   "metadata": {},
   "outputs": [
    {
     "name": "stdout",
     "output_type": "stream",
     "text": [
      "('Apple', 'Ball', 'Cat', 'Dog', 'Fish', 'Goat', 'Apple')\n"
     ]
    }
   ],
   "source": [
    "a = (\"Apple\",\"Ball\",\"Cat\",\"Dog\",\"Fish\",)\n",
    "b = (\"Goat\",\"Apple\",)\n",
    "c = a+b\n",
    "print(c)"
   ]
  },
  {
   "cell_type": "code",
   "execution_count": 9,
   "id": "b29ebd48",
   "metadata": {},
   "outputs": [
    {
     "data": {
      "text/plain": [
       "tuple"
      ]
     },
     "execution_count": 9,
     "metadata": {},
     "output_type": "execute_result"
    }
   ],
   "source": [
    "a = (\"Apple\",)\n",
    "type(a)"
   ]
  },
  {
   "cell_type": "code",
   "execution_count": 10,
   "id": "42f25ece",
   "metadata": {},
   "outputs": [],
   "source": [
    "# No append insert extend\n",
    "# No update or edit\n",
    "# No del remove pop"
   ]
  },
  {
   "cell_type": "code",
   "execution_count": 11,
   "id": "14888bcc",
   "metadata": {},
   "outputs": [
    {
     "data": {
      "text/plain": [
       "(2, 3, 4)"
      ]
     },
     "execution_count": 11,
     "metadata": {},
     "output_type": "execute_result"
    }
   ],
   "source": [
    "a = (1,2,3,4)\n",
    "b = list(a)\n",
    "del b[0]\n",
    "a = tuple(b)\n",
    "a"
   ]
  },
  {
   "cell_type": "code",
   "execution_count": 12,
   "id": "1e93bf88",
   "metadata": {},
   "outputs": [
    {
     "name": "stdout",
     "output_type": "stream",
     "text": [
      "Enter n = 4\n",
      "Enter x = 23\n",
      "Enter x = 345\n",
      "Enter x = 234\n",
      "Enter x = 546\n",
      "(23, 345, 234, 546)\n"
     ]
    }
   ],
   "source": [
    "t = ()\n",
    "n = int(input(\"Enter n = \"))\n",
    "for i in range(n):\n",
    "    x = int(input(\"Enter x = \"))\n",
    "    t = t+(x,)\n",
    "    \n",
    "print(t)"
   ]
  },
  {
   "cell_type": "code",
   "execution_count": 13,
   "id": "d49931b2",
   "metadata": {},
   "outputs": [
    {
     "name": "stdout",
     "output_type": "stream",
     "text": [
      "Sum =  1148\n",
      "max =  546\n",
      "min =  23\n",
      "[23, 234, 345, 546]\n",
      "(23, 345, 234, 546)\n"
     ]
    }
   ],
   "source": [
    "print(\"Sum = \",sum(t))\n",
    "print(\"max = \",max(t))\n",
    "print(\"min = \",min(t))\n",
    "print(sorted(t))\n",
    "print(t)"
   ]
  },
  {
   "cell_type": "code",
   "execution_count": 14,
   "id": "9bbeeb14",
   "metadata": {},
   "outputs": [],
   "source": [
    "x = ((1,2,3),\n",
    "     (4,5,6),\n",
    "     (7,8,9))\n"
   ]
  },
  {
   "cell_type": "code",
   "execution_count": 15,
   "id": "b4b49954",
   "metadata": {},
   "outputs": [
    {
     "name": "stdout",
     "output_type": "stream",
     "text": [
      "Enter n = 4\n",
      "Enter name = 23\n",
      "Enter age = 345\n",
      "Enter add = 243\n",
      "Enter name = 3\n",
      "Enter age = 23\n",
      "Enter add = 234\n",
      "Enter name = 35\n",
      "Enter age = 345\n",
      "Enter add = 34\n",
      "Enter name = 334\n",
      "Enter age = 345\n",
      "Enter add = 345\n",
      "(('23', 345, '243'), ('3', 23, '234'), ('35', 345, '34'), ('334', 345, '345'))\n"
     ]
    }
   ],
   "source": [
    "t = ()\n",
    "n = int(input(\"Enter n = \"))\n",
    "for i in range(n):\n",
    "    name = input(\"Enter name = \")\n",
    "    age = int(input(\"Enter age = \"))\n",
    "    add = input(\"Enter add = \")\n",
    "    t = t+((name,age,add),)\n",
    "    \n",
    "print(t)"
   ]
  },
  {
   "cell_type": "code",
   "execution_count": 16,
   "id": "61422e09",
   "metadata": {},
   "outputs": [
    {
     "data": {
      "text/plain": [
       "[('23', 345, '243'), ('3', 23, '234'), ('35', 345, '34'), ('334', 345, '345')]"
      ]
     },
     "execution_count": 16,
     "metadata": {},
     "output_type": "execute_result"
    }
   ],
   "source": [
    "y = list(t)\n",
    "y"
   ]
  },
  {
   "cell_type": "code",
   "execution_count": 17,
   "id": "14c76bb7",
   "metadata": {},
   "outputs": [],
   "source": [
    "# tuple inside list\n",
    "a = [('Ram', 67, 'Kathmandu'), ('Shyam', 34, 'Bhaktapur')]\n"
   ]
  },
  {
   "cell_type": "code",
   "execution_count": 18,
   "id": "575a266c",
   "metadata": {},
   "outputs": [
    {
     "name": "stdout",
     "output_type": "stream",
     "text": [
      "[('Ram', 67, 'Kathmandu'), ('Shyam', 34, 'Bhaktapur'), ('Shyama', 24, 'Bhaktapur')]\n"
     ]
    }
   ],
   "source": [
    "a.append(('Shyama', 24, 'Bhaktapur'))\n",
    "print(a)"
   ]
  },
  {
   "cell_type": "code",
   "execution_count": 19,
   "id": "55a3b838",
   "metadata": {},
   "outputs": [
    {
     "data": {
      "text/plain": [
       "[('Rama', 34, 'Bara'), ('Shyam', 34, 'Bhaktapur'), ('Shyama', 24, 'Bhaktapur')]"
      ]
     },
     "execution_count": 19,
     "metadata": {},
     "output_type": "execute_result"
    }
   ],
   "source": [
    "a[0] = ('Rama',34,'Bara')\n",
    "a"
   ]
  },
  {
   "cell_type": "code",
   "execution_count": 20,
   "id": "9907392f",
   "metadata": {},
   "outputs": [
    {
     "ename": "TypeError",
     "evalue": "'tuple' object does not support item assignment",
     "output_type": "error",
     "traceback": [
      "\u001b[1;31m---------------------------------------------------------------------------\u001b[0m",
      "\u001b[1;31mTypeError\u001b[0m                                 Traceback (most recent call last)",
      "Input \u001b[1;32mIn [20]\u001b[0m, in \u001b[0;36m<cell line: 1>\u001b[1;34m()\u001b[0m\n\u001b[1;32m----> 1\u001b[0m a[\u001b[38;5;241m0\u001b[39m][\u001b[38;5;241m0\u001b[39m] \u001b[38;5;241m=\u001b[39m \u001b[38;5;124m\"\u001b[39m\u001b[38;5;124mRam\u001b[39m\u001b[38;5;124m\"\u001b[39m\n",
      "\u001b[1;31mTypeError\u001b[0m: 'tuple' object does not support item assignment"
     ]
    }
   ],
   "source": [
    "a[0][0] = \"Ram\""
   ]
  },
  {
   "cell_type": "code",
   "execution_count": null,
   "id": "810bddd5",
   "metadata": {},
   "outputs": [],
   "source": [
    "a = (('Ram', 67, 'Kathmandu'), ('Shyam', 34, 'Bhaktapur'))\n",
    "l = []\n",
    "for i in a:\n",
    "    l.append(list(i))\n",
    "print(l)"
   ]
  },
  {
   "cell_type": "code",
   "execution_count": null,
   "id": "3090d882",
   "metadata": {},
   "outputs": [],
   "source": [
    "a = [['Ram', 67, 'Kathmandu'], ['Shyam', 34, 'Bhaktapur']]\n",
    "l = ()\n",
    "for i in a:\n",
    "    l = l + (tuple(i),)\n",
    "print(l)"
   ]
  },
  {
   "cell_type": "code",
   "execution_count": null,
   "id": "e5759239",
   "metadata": {},
   "outputs": [],
   "source": [
    "# r = ?\n",
    "# c = ?\n",
    "# input x = ?\n",
    "# matrix = [[1,2,3],\n",
    "#          [4,5,6],\n",
    "#          [7,8,9]]\n",
    "\n",
    "# matrix = ((1,2,3),\n",
    "#           (4,5,6),\n",
    "#           (7,8,9))"
   ]
  }
 ],
 "metadata": {
  "kernelspec": {
   "display_name": "Python 3 (ipykernel)",
   "language": "python",
   "name": "python3"
  },
  "language_info": {
   "codemirror_mode": {
    "name": "ipython",
    "version": 3
   },
   "file_extension": ".py",
   "mimetype": "text/x-python",
   "name": "python",
   "nbconvert_exporter": "python",
   "pygments_lexer": "ipython3",
   "version": "3.9.12"
  }
 },
 "nbformat": 4,
 "nbformat_minor": 5
}
