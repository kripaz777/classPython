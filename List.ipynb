{
 "cells": [
  {
   "cell_type": "code",
   "execution_count": 1,
   "id": "3ac2cd0c",
   "metadata": {},
   "outputs": [],
   "source": [
    "# Python Collection\n",
    "# -List\n",
    "# -Tuple\n",
    "# -Dict\n",
    "# -Set"
   ]
  },
  {
   "cell_type": "code",
   "execution_count": 2,
   "id": "f362311d",
   "metadata": {},
   "outputs": [],
   "source": [
    "# # -List\n",
    "# -Indexing\n",
    "# -Ordered\n",
    "# -Duplicate and multiple Values\n",
    "# -Mutable"
   ]
  },
  {
   "cell_type": "code",
   "execution_count": 4,
   "id": "ac535601",
   "metadata": {},
   "outputs": [
    {
     "name": "stdout",
     "output_type": "stream",
     "text": [
      "<class 'list'>\n",
      "['Apple', 'Ball', 'cat', 'Dog', 'Fish']\n"
     ]
    }
   ],
   "source": [
    "a = [\"Apple\",\"Ball\",\"cat\",\"Dog\",\"Fish\"]\n",
    "b = [1,2,3,4,5,6,7,8,9,0]\n",
    "print(type(a))\n",
    "print(a)"
   ]
  },
  {
   "cell_type": "code",
   "execution_count": 5,
   "id": "24748527",
   "metadata": {},
   "outputs": [
    {
     "name": "stdout",
     "output_type": "stream",
     "text": [
      "5\n"
     ]
    }
   ],
   "source": [
    "print(len(a))"
   ]
  },
  {
   "cell_type": "code",
   "execution_count": 8,
   "id": "9685da37",
   "metadata": {},
   "outputs": [
    {
     "name": "stdout",
     "output_type": "stream",
     "text": [
      "Apple\n",
      "Fish\n"
     ]
    }
   ],
   "source": [
    "a = [\"Apple\",\"Ball\",\"cat\",\"Dog\",\"Fish\"]\n",
    "print(a[0])\n",
    "print(a[-1])"
   ]
  },
  {
   "cell_type": "code",
   "execution_count": 9,
   "id": "bda8e6ac",
   "metadata": {},
   "outputs": [
    {
     "name": "stdout",
     "output_type": "stream",
     "text": [
      "['Apple', 'Ball', 'cat', 'Dog']\n"
     ]
    }
   ],
   "source": [
    "a = [\"Apple\",\"Ball\",\"cat\",\"Dog\",\"Fish\"]\n",
    "print(a[0:4])"
   ]
  },
  {
   "cell_type": "code",
   "execution_count": 12,
   "id": "3e8b9c07",
   "metadata": {},
   "outputs": [
    {
     "data": {
      "text/plain": [
       "['Apple', 'cat', 'Fish']"
      ]
     },
     "execution_count": 12,
     "metadata": {},
     "output_type": "execute_result"
    }
   ],
   "source": [
    "a = [\"Apple\",\"Ball\",\"cat\",\"Dog\",\"Fish\"]\n",
    "a[0:4:2]"
   ]
  },
  {
   "cell_type": "code",
   "execution_count": 13,
   "id": "393cdad2",
   "metadata": {},
   "outputs": [
    {
     "name": "stdout",
     "output_type": "stream",
     "text": [
      "['Apple', 'Ball', 'cat', 'Dog', 'Goat', 'Fish']\n"
     ]
    }
   ],
   "source": [
    "a = [\"Apple\",\"Ball\",\"cat\",\"Dog\"]\n",
    "b = [\"Goat\",\"Fish\"]\n",
    "c = a+b\n",
    "print(c)"
   ]
  },
  {
   "cell_type": "code",
   "execution_count": 15,
   "id": "e254651b",
   "metadata": {},
   "outputs": [
    {
     "name": "stdout",
     "output_type": "stream",
     "text": [
      "['Apple', 'Ball', 'cat', 'Dog', 'Goat', 'Fish', 'Apple']\n"
     ]
    }
   ],
   "source": [
    "a = ['Apple', 'Ball', 'cat', 'Dog', 'Goat', 'Fish']\n",
    "a.append('Apple')\n",
    "print(a)"
   ]
  },
  {
   "cell_type": "code",
   "execution_count": 16,
   "id": "888a5cd0",
   "metadata": {},
   "outputs": [],
   "source": [
    "# append() insert() extend()"
   ]
  },
  {
   "cell_type": "code",
   "execution_count": 17,
   "id": "168655eb",
   "metadata": {},
   "outputs": [
    {
     "name": "stdout",
     "output_type": "stream",
     "text": [
      "['Apple', 'apple', 'Ball', 'cat', 'Dog', 'Goat', 'Fish']\n"
     ]
    }
   ],
   "source": [
    "a = ['Apple', 'Ball', 'cat', 'Dog', 'Goat', 'Fish']\n",
    "a.insert(1,'apple')\n",
    "print(a)"
   ]
  },
  {
   "cell_type": "code",
   "execution_count": 18,
   "id": "09e9c09b",
   "metadata": {},
   "outputs": [
    {
     "name": "stdout",
     "output_type": "stream",
     "text": [
      "['Apple', 'Ball', 'cat', 'Dog', 'Goat', 'Fish', 1, 2, 3, 4]\n"
     ]
    }
   ],
   "source": [
    "a =['Apple', 'Ball', 'cat', 'Dog', 'Goat', 'Fish']\n",
    "b = [1,2,3,4]\n",
    "a.extend(b)\n",
    "print(a)"
   ]
  },
  {
   "cell_type": "code",
   "execution_count": 21,
   "id": "eadbad89",
   "metadata": {},
   "outputs": [
    {
     "name": "stdout",
     "output_type": "stream",
     "text": [
      "Enter n = 5\n",
      "Enter x = 32\n",
      "[32]\n",
      "Enter x = 54\n",
      "[32, 54]\n",
      "Enter x = 576\n",
      "[32, 54, 576]\n",
      "Enter x = 24\n",
      "[32, 54, 576, 24]\n",
      "Enter x = 56\n",
      "[32, 54, 576, 24, 56]\n"
     ]
    }
   ],
   "source": [
    "a = list()\n",
    "n = int(input(\"Enter n = \"))\n",
    "for i in range(n):\n",
    "    x = int(input(\"Enter x = \"))\n",
    "    a.append(x)\n",
    "    \n",
    "print(a)"
   ]
  },
  {
   "cell_type": "code",
   "execution_count": 27,
   "id": "0f8e82de",
   "metadata": {},
   "outputs": [
    {
     "name": "stdout",
     "output_type": "stream",
     "text": [
      "Sum =  742\n",
      "Max =  576\n",
      "Min =  24\n",
      "[24, 32, 54, 56, 576]\n",
      "[576, 56, 54, 32, 24]\n"
     ]
    }
   ],
   "source": [
    "print(\"Sum = \",sum(a))\n",
    "print(\"Max = \",max(a))\n",
    "print(\"Min = \",min(a))\n",
    "a.sort()\n",
    "print(a)\n",
    "a.reverse()\n",
    "print(a)"
   ]
  },
  {
   "cell_type": "code",
   "execution_count": 30,
   "id": "426d0dc8",
   "metadata": {},
   "outputs": [
    {
     "name": "stdout",
     "output_type": "stream",
     "text": [
      "['Apple', 'Ball', 'Xray', 'Zebra', 'apple']\n"
     ]
    }
   ],
   "source": [
    "a = ['Zebra','Apple','Ball','Xray','apple']\n",
    "a.sort()\n",
    "print(a)"
   ]
  },
  {
   "cell_type": "code",
   "execution_count": 31,
   "id": "3be3753b",
   "metadata": {},
   "outputs": [
    {
     "name": "stdout",
     "output_type": "stream",
     "text": [
      "Zebra\n",
      "Apple\n",
      "Ball\n",
      "Xray\n",
      "apple\n"
     ]
    }
   ],
   "source": [
    "a = ['Zebra','Apple','Ball','Xray','apple']\n",
    "for i in a:\n",
    "    print(i)"
   ]
  },
  {
   "cell_type": "code",
   "execution_count": 32,
   "id": "1cdd826b",
   "metadata": {},
   "outputs": [
    {
     "name": "stdout",
     "output_type": "stream",
     "text": [
      "Zebra\n",
      "Apple\n",
      "Xray\n",
      "apple\n"
     ]
    }
   ],
   "source": [
    "a = ['Zebra','Apple','Ball','Xray','apple']\n",
    "for i in a:\n",
    "    if i != 'Ball':\n",
    "        print(i)"
   ]
  },
  {
   "cell_type": "code",
   "execution_count": 38,
   "id": "3f6a838e",
   "metadata": {},
   "outputs": [
    {
     "name": "stdout",
     "output_type": "stream",
     "text": [
      "Enter a = ball\n",
      "No\n"
     ]
    }
   ],
   "source": [
    "a = ['Zebra','Apple','Ball','Xray','apple']\n",
    "value = input(\"Enter a = \")\n",
    "if value in a:\n",
    "    print(\"Yes\")\n",
    "else:\n",
    "    print(\"No\")"
   ]
  },
  {
   "cell_type": "code",
   "execution_count": 40,
   "id": "e0ae60d6",
   "metadata": {},
   "outputs": [
    {
     "name": "stdout",
     "output_type": "stream",
     "text": [
      "Zebra\n",
      "Apple\n",
      "Ball\n",
      "Xray\n",
      "apple\n"
     ]
    }
   ],
   "source": [
    "a = ['Zebra','Apple','Ball','Xray','apple']\n",
    "l = len(a)\n",
    "for i in range(l):\n",
    "    print(a[i])"
   ]
  },
  {
   "cell_type": "code",
   "execution_count": 45,
   "id": "091a4444",
   "metadata": {},
   "outputs": [
    {
     "name": "stdout",
     "output_type": "stream",
     "text": [
      "Enter value = sdfd\n",
      "No\n"
     ]
    }
   ],
   "source": [
    "a = ['Zebra','Apple','Ball','Xray','apple']\n",
    "l = len(a)\n",
    "value = input(\"Enter value = \")\n",
    "for i in range(l):\n",
    "    if a[i].lower() == value.lower():\n",
    "        print(\"Yes\")\n",
    "        break\n",
    "else:\n",
    "    print(\"No\")"
   ]
  },
  {
   "cell_type": "code",
   "execution_count": 47,
   "id": "93e5cd41",
   "metadata": {},
   "outputs": [
    {
     "name": "stdout",
     "output_type": "stream",
     "text": [
      "Enter value = Apple\n",
      "Yes\n"
     ]
    }
   ],
   "source": [
    "a = ['Zebra','Apple','Ball','Xray','apple']\n",
    "value = input(\"Enter value = \")\n",
    "for i in a:\n",
    "    if i.lower() == value.lower():\n",
    "        print(\"Yes\")\n",
    "        break\n",
    "else:\n",
    "    print(\"No\")"
   ]
  },
  {
   "cell_type": "code",
   "execution_count": 48,
   "id": "c136970d",
   "metadata": {},
   "outputs": [
    {
     "data": {
      "text/plain": [
       "0"
      ]
     },
     "execution_count": 48,
     "metadata": {},
     "output_type": "execute_result"
    }
   ],
   "source": [
    "a = ['Zebra','Apple','Ball','Xray','Apple']\n",
    "a.index('Zebra')"
   ]
  },
  {
   "cell_type": "code",
   "execution_count": 55,
   "id": "284dc225",
   "metadata": {},
   "outputs": [
    {
     "name": "stdout",
     "output_type": "stream",
     "text": [
      "1\n",
      "4\n"
     ]
    }
   ],
   "source": [
    "a = ['Zebra','Apple','Ball','Xray','Apple']\n",
    "for i in range(len(a)):\n",
    "    if a[i] == \"Apple\":\n",
    "        print(i)\n",
    "        "
   ]
  },
  {
   "cell_type": "code",
   "execution_count": 2,
   "id": "2d7075fa",
   "metadata": {},
   "outputs": [
    {
     "name": "stdout",
     "output_type": "stream",
     "text": [
      "['zebra', 'Apple', 'Ball', 'Xray', 'Apple']\n"
     ]
    }
   ],
   "source": [
    "# Update values\n",
    "a = ['Zebra','Apple','Ball','Xray','Apple']\n",
    "a[0] = 'zebra'\n",
    "print(a)"
   ]
  },
  {
   "cell_type": "code",
   "execution_count": 3,
   "id": "1eb28de0",
   "metadata": {},
   "outputs": [
    {
     "name": "stdout",
     "output_type": "stream",
     "text": [
      "['zebra', 'apple', 'Ball', 'Xray', 'Apple']\n"
     ]
    }
   ],
   "source": [
    "# Update values\n",
    "a = ['Zebra','Apple','Ball','Xray','Apple']\n",
    "a[0:2] = ['zebra','apple']\n",
    "print(a)"
   ]
  },
  {
   "cell_type": "code",
   "execution_count": 5,
   "id": "e1533053",
   "metadata": {},
   "outputs": [
    {
     "name": "stdout",
     "output_type": "stream",
     "text": [
      "['Apple', 'Ball', 'Xray', 'Apple']\n"
     ]
    }
   ],
   "source": [
    "# del remove() pop()\n",
    "a = ['Zebra','Apple','Ball','Xray','Apple']\n",
    "del a[0]\n",
    "print(a)"
   ]
  },
  {
   "cell_type": "code",
   "execution_count": 6,
   "id": "6424bc63",
   "metadata": {},
   "outputs": [
    {
     "name": "stdout",
     "output_type": "stream",
     "text": [
      "['Ball', 'Xray', 'Apple']\n"
     ]
    }
   ],
   "source": [
    "a = ['Zebra','Apple','Ball','Xray','Apple']\n",
    "del a[0:2]\n",
    "print(a)"
   ]
  },
  {
   "cell_type": "code",
   "execution_count": 9,
   "id": "0da94a03",
   "metadata": {},
   "outputs": [
    {
     "name": "stdout",
     "output_type": "stream",
     "text": [
      "Zebra\n",
      "['Apple', 'Ball', 'Xray', 'Apple']\n"
     ]
    }
   ],
   "source": [
    "a = ['Zebra','Apple','Ball','Xray','Apple']\n",
    "b = a.pop(0)\n",
    "print(b)\n",
    "print(a)"
   ]
  },
  {
   "cell_type": "code",
   "execution_count": 11,
   "id": "81f18f75",
   "metadata": {},
   "outputs": [
    {
     "data": {
      "text/plain": [
       "['Apple', 'Ball', 'Xray', 'Apple']"
      ]
     },
     "execution_count": 11,
     "metadata": {},
     "output_type": "execute_result"
    }
   ],
   "source": [
    "a = ['Zebra','Apple','Ball','Xray','Apple']\n",
    "a.remove('Zebra')\n",
    "a"
   ]
  },
  {
   "cell_type": "code",
   "execution_count": 13,
   "id": "dd2c3fb5",
   "metadata": {},
   "outputs": [
    {
     "name": "stdout",
     "output_type": "stream",
     "text": [
      "['Zebra', 'Ball', 'Xray']\n"
     ]
    }
   ],
   "source": [
    "a = ['Zebra','Apple','Ball','Xray','Apple']\n",
    "l = a.count('Apple')\n",
    "for i in range(l):\n",
    "    a.remove('Apple')\n",
    "    \n",
    "print(a)"
   ]
  },
  {
   "cell_type": "code",
   "execution_count": 15,
   "id": "93336196",
   "metadata": {},
   "outputs": [
    {
     "name": "stdout",
     "output_type": "stream",
     "text": [
      "3\n"
     ]
    }
   ],
   "source": [
    "# Neted list (list inside list)\n",
    "a = [[1,2,3],\n",
    "     [4,5,6],\n",
    "     [7,8,9]]\n",
    "print(len(a))"
   ]
  },
  {
   "cell_type": "code",
   "execution_count": 16,
   "id": "f648cec2",
   "metadata": {},
   "outputs": [
    {
     "name": "stdout",
     "output_type": "stream",
     "text": [
      "[['Ram', 34, 'Kathmandu'], ['Shyam', 21, 'Lalitpur'], ['Hari', 67, 'Bhaktapur']]\n"
     ]
    }
   ],
   "source": [
    "a = [['Ram',34,'Kathmandu'],\n",
    "    ['Shyam',21,'Lalitpur'],\n",
    "    ['Hari',67,'Bhaktapur']]\n",
    "print(a)"
   ]
  },
  {
   "cell_type": "code",
   "execution_count": 20,
   "id": "0b18a153",
   "metadata": {},
   "outputs": [
    {
     "name": "stdout",
     "output_type": "stream",
     "text": [
      "['Hari', 67, 'Bhaktapur']\n"
     ]
    }
   ],
   "source": [
    "print(a[2])"
   ]
  },
  {
   "cell_type": "code",
   "execution_count": 23,
   "id": "d17f9784",
   "metadata": {},
   "outputs": [
    {
     "name": "stdout",
     "output_type": "stream",
     "text": [
      "Hari\n"
     ]
    }
   ],
   "source": [
    "print(a[2][0])"
   ]
  },
  {
   "cell_type": "code",
   "execution_count": 26,
   "id": "7df2a107",
   "metadata": {},
   "outputs": [
    {
     "name": "stdout",
     "output_type": "stream",
     "text": [
      "Enter n = 2\n",
      "Enter name = Ram\n",
      "Enter age = 23\n",
      "Enter add = Kathmandu\n",
      "Enter name = Shyam\n",
      "Enter age = 45\n",
      "Enter add = Lalitpur\n",
      "[['Ram', 23, 'Kathmandu'], ['Shyam', 45, 'Lalitpur']]\n"
     ]
    }
   ],
   "source": [
    "a = list()\n",
    "n = int(input(\"Enter n = \"))\n",
    "for i in range(n):\n",
    "    name = input(\"Enter name = \")\n",
    "    age = int(input(\"Enter age = \"))\n",
    "    add = input(\"Enter add = \")\n",
    "    a.append([name,age,add])\n",
    "    \n",
    "print(a)"
   ]
  },
  {
   "cell_type": "code",
   "execution_count": 27,
   "id": "f0496dd4",
   "metadata": {},
   "outputs": [
    {
     "data": {
      "text/plain": [
       "[['Ram', 23, 'Kathmandu'],\n",
       " ['Shyam', 45, 'Lalitpur'],\n",
       " ['Hari', 45, 'Bhaktapur']]"
      ]
     },
     "execution_count": 27,
     "metadata": {},
     "output_type": "execute_result"
    }
   ],
   "source": [
    "a = [['Ram', 23, 'Kathmandu'], ['Shyam', 45, 'Lalitpur']]\n",
    "a.append(['Hari',45,'Bhaktapur'])\n",
    "a"
   ]
  },
  {
   "cell_type": "code",
   "execution_count": 34,
   "id": "e410489e",
   "metadata": {},
   "outputs": [
    {
     "name": "stdout",
     "output_type": "stream",
     "text": [
      "Enter name = Ram\n",
      "['Ram', 23, 'Kathmandu']\n"
     ]
    }
   ],
   "source": [
    "a = [['Ram', 23, 'Kathmandu'],\n",
    " ['Shyam', 45, 'Lalitpur'],\n",
    " ['Hari', 45, 'Bhaktapur']]\n",
    "name = input(\"Enter name = \")\n",
    "for i in a:\n",
    "    if name in i:\n",
    "        print(i)"
   ]
  },
  {
   "cell_type": "code",
   "execution_count": 41,
   "id": "bb2c2dec",
   "metadata": {},
   "outputs": [
    {
     "data": {
      "text/plain": [
       "[['Ramesh', 23, 'Kathmandu'],\n",
       " ['Shyam', 45, 'Lalitpur'],\n",
       " ['Hari', 45, 'Bhaktapur']]"
      ]
     },
     "execution_count": 41,
     "metadata": {},
     "output_type": "execute_result"
    }
   ],
   "source": [
    "a = [['Ram', 23, 'Kathmandu'],['Shyam', 45, 'Lalitpur'],['Hari', 45, 'Bhaktapur']]\n",
    "a[0][0] = 'Ramesh'\n",
    "a"
   ]
  },
  {
   "cell_type": "code",
   "execution_count": 42,
   "id": "4f7124a0",
   "metadata": {},
   "outputs": [
    {
     "name": "stdout",
     "output_type": "stream",
     "text": [
      "Enter NameRamesh\n"
     ]
    },
    {
     "data": {
      "text/plain": [
       "[['Ramesh', 23, 'Kathmandu'],\n",
       " ['Shyam', 45, 'Lalitpur'],\n",
       " ['Hari', 45, 'Bhaktapur']]"
      ]
     },
     "execution_count": 42,
     "metadata": {},
     "output_type": "execute_result"
    }
   ],
   "source": [
    "a = [['Ram', 23, 'Kathmandu'],['Shyam', 45, 'Lalitpur'],['Hari', 45, 'Bhaktapur']]\n",
    "a[0][0] = input(\"Enter Name\")\n",
    "a"
   ]
  },
  {
   "cell_type": "code",
   "execution_count": 43,
   "id": "8824394e",
   "metadata": {},
   "outputs": [
    {
     "data": {
      "text/plain": [
       "[['Rama', 56, 'Bara'], ['Shyam', 45, 'Lalitpur'], ['Hari', 45, 'Bhaktapur']]"
      ]
     },
     "execution_count": 43,
     "metadata": {},
     "output_type": "execute_result"
    }
   ],
   "source": [
    "a = [['Ram', 23, 'Kathmandu'],['Shyam', 45, 'Lalitpur'],['Hari', 45, 'Bhaktapur']]\n",
    "a[0] = ['Rama',56,'Bara']\n",
    "a"
   ]
  },
  {
   "cell_type": "code",
   "execution_count": 44,
   "id": "d243fce0",
   "metadata": {},
   "outputs": [
    {
     "name": "stdout",
     "output_type": "stream",
     "text": [
      "Enter index = 1\n",
      "Enter NameShyam Sunder\n",
      "Enter age = 23\n",
      "Enter add = Lalitpur\n"
     ]
    }
   ],
   "source": [
    "a = [['Ram', 23, 'Kathmandu'],['Shyam', 45, 'Lalitpur'],['Hari', 45, 'Bhaktapur']]\n",
    "index = int(input(\"Enter index = \"))\n",
    "a[index][0] = input(\"Enter Name\")\n",
    "a[index][1] = int(input('Enter age = '))\n",
    "a[index][2] = input(\"Enter add = \")"
   ]
  },
  {
   "cell_type": "code",
   "execution_count": 45,
   "id": "305e2c08",
   "metadata": {},
   "outputs": [
    {
     "name": "stdout",
     "output_type": "stream",
     "text": [
      "[['Ram', 23, 'Kathmandu'], ['Shyam Sunder', 23, 'Lalitpur'], ['Hari', 45, 'Bhaktapur']]\n"
     ]
    }
   ],
   "source": [
    "print(a)"
   ]
  },
  {
   "cell_type": "code",
   "execution_count": 46,
   "id": "324d923a",
   "metadata": {},
   "outputs": [
    {
     "name": "stdout",
     "output_type": "stream",
     "text": [
      "Enter n = 2\n",
      "Enter name = Apple\n",
      "Enter product price = 300\n",
      "Enter quantity = 2\n",
      "Enter name = Banana\n",
      "Enter product price = 200\n",
      "Enter quantity = 3\n",
      "Apple 300 2 600\n",
      "Banana 200 3 600\n",
      "\n",
      "All total = 1200\n"
     ]
    }
   ],
   "source": [
    "s = str()\n",
    "all_total = 0\n",
    "i = 0\n",
    "n = int(input(\"Enter n = \")) \n",
    "while i<n:\n",
    "    product = input(\"Enter name = \")\n",
    "    price = int(input(\"Enter product price = \"))\n",
    "    quantity = int(input(\"Enter quantity = \"))\n",
    "    total = price*quantity\n",
    "    all_total = all_total+total\n",
    "    s = s+f\"{product} {price} {quantity} {total}\\n\"\n",
    "    i = i+1\n",
    "print(s)\n",
    "print(\"All total =\",all_total)"
   ]
  },
  {
   "cell_type": "code",
   "execution_count": 48,
   "id": "adf2849e",
   "metadata": {},
   "outputs": [
    {
     "data": {
      "text/plain": [
       "'Apple 300 2 600\\nBanana 200 3 600\\n'"
      ]
     },
     "execution_count": 48,
     "metadata": {},
     "output_type": "execute_result"
    }
   ],
   "source": [
    "s"
   ]
  },
  {
   "cell_type": "code",
   "execution_count": 50,
   "id": "72c61db2",
   "metadata": {},
   "outputs": [
    {
     "data": {
      "text/plain": [
       "['Apple 300 2 600', 'Banana 200 3 600', '']"
      ]
     },
     "execution_count": 50,
     "metadata": {},
     "output_type": "execute_result"
    }
   ],
   "source": [
    "s.split('\\n')"
   ]
  },
  {
   "cell_type": "code",
   "execution_count": 62,
   "id": "44caeb29",
   "metadata": {},
   "outputs": [
    {
     "name": "stdout",
     "output_type": "stream",
     "text": [
      "['Apple', '300', '2', '600']\n",
      "['Banana', '200', '3', '600']\n",
      "[['Apple', '300', '2', '600'], ['Banana', '200', '3', '600']]\n"
     ]
    }
   ],
   "source": [
    "bill = []\n",
    "s = 'Apple 300 2 600\\nBanana 200 3 600\\n'\n",
    "a = s.split('\\n')[0:-1]\n",
    "for i in a:\n",
    "    x = i.split()\n",
    "    print(x)\n",
    "    bill.append(x)\n",
    "    \n",
    "print(bill)"
   ]
  },
  {
   "cell_type": "code",
   "execution_count": null,
   "id": "13182c03",
   "metadata": {},
   "outputs": [],
   "source": []
  }
 ],
 "metadata": {
  "kernelspec": {
   "display_name": "Python 3 (ipykernel)",
   "language": "python",
   "name": "python3"
  },
  "language_info": {
   "codemirror_mode": {
    "name": "ipython",
    "version": 3
   },
   "file_extension": ".py",
   "mimetype": "text/x-python",
   "name": "python",
   "nbconvert_exporter": "python",
   "pygments_lexer": "ipython3",
   "version": "3.9.12"
  }
 },
 "nbformat": 4,
 "nbformat_minor": 5
}
