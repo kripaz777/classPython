{
 "cells": [
  {
   "cell_type": "code",
   "execution_count": 1,
   "id": "7d7b0320",
   "metadata": {},
   "outputs": [],
   "source": [
    "# Comprehensions: List, Dictionary\n"
   ]
  },
  {
   "cell_type": "code",
   "execution_count": 7,
   "id": "7a5599ea",
   "metadata": {},
   "outputs": [
    {
     "data": {
      "text/plain": [
       "[0, 1, 2, 3, 4]"
      ]
     },
     "execution_count": 7,
     "metadata": {},
     "output_type": "execute_result"
    }
   ],
   "source": [
    "data = [i for i in  range(5)]\n",
    "data"
   ]
  },
  {
   "cell_type": "code",
   "execution_count": 8,
   "id": "4d18b47d",
   "metadata": {},
   "outputs": [
    {
     "name": "stdout",
     "output_type": "stream",
     "text": [
      "Enter value = 4\n",
      "Enter value = 3\n",
      "Enter value = 5\n",
      "Enter value = 3\n",
      "Enter value = 5\n"
     ]
    },
    {
     "data": {
      "text/plain": [
       "[4, 3, 5, 3, 5]"
      ]
     },
     "execution_count": 8,
     "metadata": {},
     "output_type": "execute_result"
    }
   ],
   "source": [
    "data = [int(input(\"Enter value = \")) for i in  range(5)]\n",
    "data"
   ]
  },
  {
   "cell_type": "code",
   "execution_count": 9,
   "id": "659bdca7",
   "metadata": {},
   "outputs": [
    {
     "name": "stdout",
     "output_type": "stream",
     "text": [
      "Enter value = Apple\n",
      "Enter value = Ball\n",
      "Enter value = Cat\n",
      "Enter value = dog\n",
      "Enter value = Fish\n"
     ]
    },
    {
     "data": {
      "text/plain": [
       "['Apple', 'Ball', 'Cat', 'dog', 'Fish']"
      ]
     },
     "execution_count": 9,
     "metadata": {},
     "output_type": "execute_result"
    }
   ],
   "source": [
    "data = [input(\"Enter value = \") for i in  range(5)]\n",
    "data"
   ]
  },
  {
   "cell_type": "code",
   "execution_count": 10,
   "id": "c50ee722",
   "metadata": {},
   "outputs": [
    {
     "data": {
      "text/plain": [
       "[2, 4, 6, 2, 0, 6]"
      ]
     },
     "execution_count": 10,
     "metadata": {},
     "output_type": "execute_result"
    }
   ],
   "source": [
    "l = [2,4,5,6,2,7,9,0,1,3,6]\n",
    "data = [i for i in l if i%2==0]\n",
    "data"
   ]
  },
  {
   "cell_type": "code",
   "execution_count": 12,
   "id": "e969ff82",
   "metadata": {},
   "outputs": [
    {
     "data": {
      "text/plain": [
       "['Apple', 'Bus', 'Fish']"
      ]
     },
     "execution_count": 12,
     "metadata": {},
     "output_type": "execute_result"
    }
   ],
   "source": [
    "l = ['Apple','ball','cat',\"Bus\",\"Fish\"]\n",
    "data = [i for i in l if i[0].isupper()]\n",
    "data"
   ]
  },
  {
   "cell_type": "code",
   "execution_count": 13,
   "id": "fd86df53",
   "metadata": {},
   "outputs": [
    {
     "data": {
      "text/plain": [
       "{1: 1, 2: 4, 3: 9, 4: 16, 5: 25}"
      ]
     },
     "execution_count": 13,
     "metadata": {},
     "output_type": "execute_result"
    }
   ],
   "source": [
    "d = {i:i**2 for i in range(1,6)}\n",
    "d"
   ]
  },
  {
   "cell_type": "code",
   "execution_count": 14,
   "id": "5b8edf63",
   "metadata": {},
   "outputs": [
    {
     "data": {
      "text/plain": [
       "{'Apple': 'apple', 'ball': 'ball', 'cat': 'cat', 'Bus': 'bus', 'Fish': 'fish'}"
      ]
     },
     "execution_count": 14,
     "metadata": {},
     "output_type": "execute_result"
    }
   ],
   "source": [
    "l = ['Apple','ball','cat',\"Bus\",\"Fish\"]\n",
    "d = {i:i.lower() for i in l}\n",
    "d"
   ]
  },
  {
   "cell_type": "code",
   "execution_count": 1,
   "id": "0c0194cd",
   "metadata": {},
   "outputs": [
    {
     "name": "stdout",
     "output_type": "stream",
     "text": [
      "Enter name = ram\n",
      "Enter phone = 9808778765\n",
      "Enter name = Shyam\n",
      "Enter phone = 90889988765\n"
     ]
    },
    {
     "data": {
      "text/plain": [
       "{'ram': 9808778765, 'Shyam': 90889988765}"
      ]
     },
     "execution_count": 1,
     "metadata": {},
     "output_type": "execute_result"
    }
   ],
   "source": [
    "d = {input(\"Enter name = \"):int(input(\"Enter phone = \")) for i in range(2)}\n",
    "d"
   ]
  },
  {
   "cell_type": "code",
   "execution_count": 2,
   "id": "c0dd097a",
   "metadata": {},
   "outputs": [
    {
     "name": "stdout",
     "output_type": "stream",
     "text": [
      "2022-10-19 07:29:01.154078\n"
     ]
    }
   ],
   "source": [
    "import datetime as d\n",
    "\n",
    "x = d.datetime.now()\n",
    "print(x)"
   ]
  },
  {
   "cell_type": "code",
   "execution_count": 3,
   "id": "5e798db3",
   "metadata": {},
   "outputs": [
    {
     "name": "stdout",
     "output_type": "stream",
     "text": [
      "Enter name = aayush\n",
      "0:00:07.171084\n"
     ]
    }
   ],
   "source": [
    "import datetime\n",
    "\n",
    "x = datetime.datetime.now()\n",
    "name = input(\"Enter name = \")\n",
    "y = datetime.datetime.now()\n",
    "print(y-x)"
   ]
  },
  {
   "cell_type": "code",
   "execution_count": 14,
   "id": "da8ee152",
   "metadata": {},
   "outputs": [
    {
     "name": "stdout",
     "output_type": "stream",
     "text": [
      "Wed Oct 19 07:43:00 2022\n"
     ]
    }
   ],
   "source": [
    "import datetime\n",
    "\n",
    "x = datetime.datetime.now()\n",
    "\n",
    "print(x.strftime(\"%c\"))\n"
   ]
  },
  {
   "cell_type": "code",
   "execution_count": 15,
   "id": "0b10e95d",
   "metadata": {},
   "outputs": [
    {
     "data": {
      "text/plain": [
       "['.ipynb_checkpoints',\n",
       " 'bill.csv',\n",
       " 'bill.txt',\n",
       " 'bonus.ipynb',\n",
       " 'data.csv',\n",
       " 'data.txt',\n",
       " 'Day4.loop.ipynb',\n",
       " 'Day5Loop.ipynb',\n",
       " 'Day6Loop.ipynb',\n",
       " 'dictionary.ipynb',\n",
       " 'file.ipynb',\n",
       " 'first_class.ipynb',\n",
       " 'function.ipynb',\n",
       " 'if else.ipynb',\n",
       " 'inheritance.ipynb',\n",
       " 'List.ipynb',\n",
       " 'new_data.csv',\n",
       " 'new_data1.csv',\n",
       " 'oop.ipynb',\n",
       " 'pandas.ipynb',\n",
       " 'set.ipynb',\n",
       " 'string.ipynb',\n",
       " 'tuple .ipynb',\n",
       " 'Untitled.ipynb',\n",
       " 'Untitled1.ipynb']"
      ]
     },
     "execution_count": 15,
     "metadata": {},
     "output_type": "execute_result"
    }
   ],
   "source": [
    "import os\n",
    "os.listdir()"
   ]
  },
  {
   "cell_type": "code",
   "execution_count": 16,
   "id": "a4c10420",
   "metadata": {},
   "outputs": [
    {
     "data": {
      "text/plain": [
       "['.ipynb_checkpoints',\n",
       " 'bill.csv',\n",
       " 'bonus.ipynb',\n",
       " 'data.csv',\n",
       " 'data.txt',\n",
       " 'Day4.loop.ipynb',\n",
       " 'Day5Loop.ipynb',\n",
       " 'Day6Loop.ipynb',\n",
       " 'dictionary.ipynb',\n",
       " 'file.ipynb',\n",
       " 'first_class.ipynb',\n",
       " 'function.ipynb',\n",
       " 'if else.ipynb',\n",
       " 'inheritance.ipynb',\n",
       " 'List.ipynb',\n",
       " 'new_data.csv',\n",
       " 'new_data1.csv',\n",
       " 'oop.ipynb',\n",
       " 'pandas.ipynb',\n",
       " 'set.ipynb',\n",
       " 'string.ipynb',\n",
       " 'tuple .ipynb',\n",
       " 'Untitled.ipynb',\n",
       " 'Untitled1.ipynb']"
      ]
     },
     "execution_count": 16,
     "metadata": {},
     "output_type": "execute_result"
    }
   ],
   "source": [
    "os.remove('bill.txt')\n",
    "os.listdir()"
   ]
  },
  {
   "cell_type": "code",
   "execution_count": 17,
   "id": "f17dacc6",
   "metadata": {},
   "outputs": [
    {
     "data": {
      "text/plain": [
       "['.ipynb_checkpoints',\n",
       " 'bill.csv',\n",
       " 'bonus.ipynb',\n",
       " 'data.csv',\n",
       " 'data.txt',\n",
       " 'Day4.loop.ipynb',\n",
       " 'Day5Loop.ipynb',\n",
       " 'Day6Loop.ipynb',\n",
       " 'dictionary.ipynb',\n",
       " 'file.ipynb',\n",
       " 'first_class.ipynb',\n",
       " 'function.ipynb',\n",
       " 'if else.ipynb',\n",
       " 'inheritance.ipynb',\n",
       " 'List.ipynb',\n",
       " 'newFolder',\n",
       " 'new_data.csv',\n",
       " 'new_data1.csv',\n",
       " 'oop.ipynb',\n",
       " 'pandas.ipynb',\n",
       " 'set.ipynb',\n",
       " 'string.ipynb',\n",
       " 'tuple .ipynb',\n",
       " 'Untitled.ipynb',\n",
       " 'Untitled1.ipynb']"
      ]
     },
     "execution_count": 17,
     "metadata": {},
     "output_type": "execute_result"
    }
   ],
   "source": [
    "os.mkdir('newFolder')\n",
    "os.listdir()"
   ]
  },
  {
   "cell_type": "code",
   "execution_count": null,
   "id": "4dd4fa00",
   "metadata": {},
   "outputs": [],
   "source": [
    "# pandas\n",
    "# request\n",
    "# bs4\n",
    "#plotly"
   ]
  },
  {
   "cell_type": "code",
   "execution_count": 1,
   "id": "09b27f22",
   "metadata": {},
   "outputs": [
    {
     "data": {
      "text/plain": [
       "'C:\\\\Users\\\\Aayush\\\\class630am'"
      ]
     },
     "execution_count": 1,
     "metadata": {},
     "output_type": "execute_result"
    }
   ],
   "source": [
    "pwd"
   ]
  },
  {
   "cell_type": "code",
   "execution_count": null,
   "id": "77e546d1",
   "metadata": {},
   "outputs": [],
   "source": []
  }
 ],
 "metadata": {
  "kernelspec": {
   "display_name": "Python 3 (ipykernel)",
   "language": "python",
   "name": "python3"
  },
  "language_info": {
   "codemirror_mode": {
    "name": "ipython",
    "version": 3
   },
   "file_extension": ".py",
   "mimetype": "text/x-python",
   "name": "python",
   "nbconvert_exporter": "python",
   "pygments_lexer": "ipython3",
   "version": "3.9.12"
  }
 },
 "nbformat": 4,
 "nbformat_minor": 5
}
