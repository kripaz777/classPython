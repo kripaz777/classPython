{
 "cells": [
  {
   "cell_type": "code",
   "execution_count": null,
   "id": "e5d01a69",
   "metadata": {},
   "outputs": [],
   "source": [
    "class A:\n",
    "    pass\n",
    "\n",
    "class B(A):\n",
    "    pass\n",
    "\n",
    "obj = B()"
   ]
  },
  {
   "cell_type": "code",
   "execution_count": null,
   "id": "db41a8e9",
   "metadata": {},
   "outputs": [],
   "source": [
    "class A:\n",
    "    pass\n",
    "\n",
    "class B:\n",
    "    pass\n",
    "\n",
    "class C(A,B):\n",
    "    pass\n",
    "\n",
    "obj = C()"
   ]
  },
  {
   "cell_type": "code",
   "execution_count": 1,
   "id": "396813c6",
   "metadata": {},
   "outputs": [],
   "source": [
    "class A:\n",
    "    pass\n",
    "\n",
    "class B(A):\n",
    "    pass\n",
    "\n",
    "class C(B):\n",
    "    pass\n",
    "\n",
    "obj = C()"
   ]
  },
  {
   "cell_type": "code",
   "execution_count": 2,
   "id": "44597761",
   "metadata": {},
   "outputs": [
    {
     "name": "stdout",
     "output_type": "stream",
     "text": [
      "Hello I am Ram. I am from Kathmandu. I am 34\n"
     ]
    }
   ],
   "source": [
    "class Info:\n",
    "    def __init__(self):\n",
    "        self.name = \"Ram\"\n",
    "        self.age = 34\n",
    "        self.add = \"Kathmandu\"\n",
    "        \n",
    "class Data(Info):\n",
    "    def data(self):\n",
    "        print(f\"Hello I am {self.name}. I am from {self.add}. I am {self.age}\")\n",
    "        \n",
    "obj = Data()\n",
    "obj.data()"
   ]
  },
  {
   "cell_type": "code",
   "execution_count": 8,
   "id": "2a2e3f4d",
   "metadata": {},
   "outputs": [
    {
     "name": "stdout",
     "output_type": "stream",
     "text": [
      "Hello I am Ram. I am from Kathmandu. I am 34\n",
      "Hello world I am Info class and this is my atributes are Ram 34 Kathmandu\n"
     ]
    }
   ],
   "source": [
    "class Info:\n",
    "    def __init__(self,name,age,add):\n",
    "        self.name = name\n",
    "        self.age = age\n",
    "        self.add = add\n",
    "    def details(self):\n",
    "        return f\"Hello world I am Info class and this is my atributes are {self.name} {self.age} {self.add}\"\n",
    "        \n",
    "class Data(Info):\n",
    "    def data(self):\n",
    "        print(f\"Hello I am {self.name}. I am from {self.add}. I am {self.age}\")\n",
    "        print(super().details())\n",
    "        \n",
    "obj = Data(\"Ram\",34,\"Kathmandu\")\n",
    "obj.data()"
   ]
  },
  {
   "cell_type": "code",
   "execution_count": 9,
   "id": "4d3535c6",
   "metadata": {},
   "outputs": [
    {
     "name": "stdout",
     "output_type": "stream",
     "text": [
      "Hello I am Ram. I am from Kathmandu. I am 34\n",
      "Hello world I am Info class and this is my atributes are  34 Kathmandu\n"
     ]
    }
   ],
   "source": [
    "class Info:\n",
    "    def __init__(self,age,add):\n",
    "        self.age = age\n",
    "        self.add = add\n",
    "    def details(self):\n",
    "        return f\"Hello world I am Info class and this is my atributes are  {self.age} {self.add}\"\n",
    "        \n",
    "class Data(Info):\n",
    "    def __init__(self,name,age,add):\n",
    "        self.name = name\n",
    "        Info.__init__(self,age,add)\n",
    "        \n",
    "    def data(self):\n",
    "        print(f\"Hello I am {self.name}. I am from {self.add}. I am {self.age}\")\n",
    "        print(super().details())\n",
    "        \n",
    "obj = Data(\"Ram\",34,\"Kathmandu\")\n",
    "obj.data()"
   ]
  },
  {
   "cell_type": "code",
   "execution_count": 14,
   "id": "7a5084fb",
   "metadata": {},
   "outputs": [
    {
     "name": "stdout",
     "output_type": "stream",
     "text": [
      "Hello I am Ram. I am from Kathmandu. I am 34\n",
      "40\n",
      "Bara\n"
     ]
    }
   ],
   "source": [
    "class Age:\n",
    "    def __init__(self,age):\n",
    "        self.age = age\n",
    "\n",
    "class Add:\n",
    "    def __init__(self,add):\n",
    "        self.add = add\n",
    "        \n",
    "class Data(Age,Add):\n",
    "    def __init__(self,name,age,add):\n",
    "        self.name = name\n",
    "        Age.__init__(self,age)\n",
    "        Add.__init__(self,add)\n",
    "        \n",
    "    def data(self):\n",
    "        print(f\"Hello I am {self.name}. I am from {self.add}. I am {self.age}\")\n",
    "        \n",
    "obj = Data(\"Ram\",34,\"Kathmandu\")\n",
    "obj1 = Age(40)\n",
    "obj2 = Add(\"Bara\")\n",
    "obj.data()\n",
    "print(obj1.age)\n",
    "print(obj2.add)"
   ]
  },
  {
   "cell_type": "code",
   "execution_count": 17,
   "id": "e7849605",
   "metadata": {},
   "outputs": [
    {
     "name": "stdout",
     "output_type": "stream",
     "text": [
      "Hello I am Ram. I am from Kathmandu. I am 34\n"
     ]
    }
   ],
   "source": [
    "class Age:\n",
    "    def __init__(self,age):\n",
    "        self.age = age\n",
    "    def age(self):\n",
    "        return age\n",
    "\n",
    "class Add(Age):\n",
    "    def __init__(self,age,add):\n",
    "        self.add = add\n",
    "        Age.__init__(self,age)\n",
    "    def add(self):\n",
    "        return self.add\n",
    "        \n",
    "class Data(Add):\n",
    "    def __init__(self,name,age,add):\n",
    "        self.name = name\n",
    "        Add.__init__(self,age,add)\n",
    "        \n",
    "    def data(self):\n",
    "        print(f\"Hello I am {self.name}. I am from {self.add}. I am {self.age}\")\n",
    "        \n",
    "obj = Data(\"Ram\",34,\"Kathmandu\")\n",
    "obj.data()"
   ]
  },
  {
   "cell_type": "code",
   "execution_count": 19,
   "id": "f13645a7",
   "metadata": {},
   "outputs": [
    {
     "name": "stdout",
     "output_type": "stream",
     "text": [
      "Ram\n",
      "Bara\n",
      "45\n"
     ]
    }
   ],
   "source": [
    "# Public attributes\n",
    "class Info:\n",
    "    def __init__(self):\n",
    "        self.name  = \"Ram\"\n",
    "        self.add = \"Bara\"\n",
    "        self.age = 45\n",
    "        \n",
    "obj = Info()\n",
    "print(obj.name)\n",
    "print(obj.add)\n",
    "print(obj.age)"
   ]
  },
  {
   "cell_type": "code",
   "execution_count": 21,
   "id": "9906b9e4",
   "metadata": {},
   "outputs": [
    {
     "name": "stdout",
     "output_type": "stream",
     "text": [
      "Ram\n",
      "Bara\n",
      "45\n"
     ]
    }
   ],
   "source": [
    "# Protected attributes\n",
    "class Info:\n",
    "    def __init__(self):\n",
    "        self._name  = \"Ram\"\n",
    "        self._add = \"Bara\"\n",
    "        self._age = 45\n",
    "        \n",
    "obj = Info()\n",
    "print(obj._name)\n",
    "print(obj._add)\n",
    "print(obj._age)"
   ]
  },
  {
   "cell_type": "code",
   "execution_count": 22,
   "id": "e515e42a",
   "metadata": {},
   "outputs": [
    {
     "ename": "AttributeError",
     "evalue": "'Info' object has no attribute '__name'",
     "output_type": "error",
     "traceback": [
      "\u001b[1;31m---------------------------------------------------------------------------\u001b[0m",
      "\u001b[1;31mAttributeError\u001b[0m                            Traceback (most recent call last)",
      "Input \u001b[1;32mIn [22]\u001b[0m, in \u001b[0;36m<cell line: 9>\u001b[1;34m()\u001b[0m\n\u001b[0;32m      6\u001b[0m         \u001b[38;5;28mself\u001b[39m\u001b[38;5;241m.\u001b[39m__age \u001b[38;5;241m=\u001b[39m \u001b[38;5;241m45\u001b[39m\n\u001b[0;32m      8\u001b[0m obj \u001b[38;5;241m=\u001b[39m Info()\n\u001b[1;32m----> 9\u001b[0m \u001b[38;5;28mprint\u001b[39m(\u001b[43mobj\u001b[49m\u001b[38;5;241;43m.\u001b[39;49m\u001b[43m__name\u001b[49m)\n\u001b[0;32m     10\u001b[0m \u001b[38;5;28mprint\u001b[39m(obj\u001b[38;5;241m.\u001b[39m__add)\n\u001b[0;32m     11\u001b[0m \u001b[38;5;28mprint\u001b[39m(obj\u001b[38;5;241m.\u001b[39m__age)\n",
      "\u001b[1;31mAttributeError\u001b[0m: 'Info' object has no attribute '__name'"
     ]
    }
   ],
   "source": [
    "# Private attributes\n",
    "class Info:\n",
    "    def __init__(self):\n",
    "        self.__name  = \"Ram\"\n",
    "        self.__add = \"Bara\"\n",
    "        self.__age = 45\n",
    "        \n",
    "obj = Info()\n",
    "print(obj.__name)\n",
    "print(obj.__add)\n",
    "print(obj.__age)"
   ]
  },
  {
   "cell_type": "code",
   "execution_count": 23,
   "id": "fba0120d",
   "metadata": {},
   "outputs": [
    {
     "name": "stdout",
     "output_type": "stream",
     "text": [
      "Ram\n",
      "Bara\n",
      "45\n"
     ]
    }
   ],
   "source": [
    "# Private attributes\n",
    "class Info:\n",
    "    def __init__(self):\n",
    "        self.__name  = \"Ram\"\n",
    "        self.__add = \"Bara\"\n",
    "        self.__age = 45\n",
    "        \n",
    "obj = Info()\n",
    "print(obj._Info__name)\n",
    "print(obj._Info__add)\n",
    "print(obj._Info__age)"
   ]
  },
  {
   "cell_type": "code",
   "execution_count": 24,
   "id": "974cb8d6",
   "metadata": {},
   "outputs": [
    {
     "name": "stdout",
     "output_type": "stream",
     "text": [
      "Hello I am Ram. I am 34\n",
      "Hello world I am Info class and this is my atributes are Ram 34 Kathmandu\n"
     ]
    }
   ],
   "source": [
    "class Info:\n",
    "    def __init__(self,name,age,add):\n",
    "        self.name = name\n",
    "        self._age = age\n",
    "        self.__add = add\n",
    "    def details(self):\n",
    "        return f\"Hello world I am Info class and this is my atributes are {self.name} {self._age} {self.__add}\"\n",
    "        \n",
    "class Data(Info):\n",
    "    def data(self):\n",
    "        print(f\"Hello I am {self.name}. I am {self._age}\")\n",
    "        print(super().details())\n",
    "        \n",
    "obj = Data(\"Ram\",34,\"Kathmandu\")\n",
    "obj.data()"
   ]
  },
  {
   "cell_type": "code",
   "execution_count": null,
   "id": "91aed1c2",
   "metadata": {},
   "outputs": [],
   "source": []
  }
 ],
 "metadata": {
  "kernelspec": {
   "display_name": "Python 3 (ipykernel)",
   "language": "python",
   "name": "python3"
  },
  "language_info": {
   "codemirror_mode": {
    "name": "ipython",
    "version": 3
   },
   "file_extension": ".py",
   "mimetype": "text/x-python",
   "name": "python",
   "nbconvert_exporter": "python",
   "pygments_lexer": "ipython3",
   "version": "3.9.12"
  }
 },
 "nbformat": 4,
 "nbformat_minor": 5
}
