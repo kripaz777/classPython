{
 "cells": [
  {
   "cell_type": "code",
   "execution_count": 1,
   "id": "075875e5",
   "metadata": {},
   "outputs": [
    {
     "name": "stdout",
     "output_type": "stream",
     "text": [
      "Requirement already satisfied: mysql-connector in c:\\users\\aayush\\anaconda3\\lib\\site-packages (2.2.9)\n"
     ]
    }
   ],
   "source": [
    "!pip install mysql-connector"
   ]
  },
  {
   "cell_type": "code",
   "execution_count": 3,
   "id": "9521de1a",
   "metadata": {},
   "outputs": [],
   "source": [
    "import mysql.connector  \t\t#importing database\n",
    "database = mysql.connector.connect(\n",
    "    host=\"localhost\",\n",
    "    user=\"root\",\n",
    "    password=\"\"\n",
    ")\n",
    "db = database.cursor() \n",
    "db.execute(\"CREATE DATABASE pythons2\")"
   ]
  },
  {
   "cell_type": "code",
   "execution_count": 4,
   "id": "aa8b9f9b",
   "metadata": {},
   "outputs": [],
   "source": [
    "import mysql.connector  \t\t#importing database\n",
    "database = mysql.connector.connect(\n",
    "    host=\"localhost\",\n",
    "    user=\"root\",\n",
    "    password=\"\",\n",
    "    database = 'class630'\n",
    ")\n",
    "db = database.cursor()"
   ]
  },
  {
   "cell_type": "code",
   "execution_count": 6,
   "id": "ba6e7eea",
   "metadata": {},
   "outputs": [
    {
     "data": {
      "text/plain": [
       "[(1, 'Ram', 65, 89, 88, 90, 78, 412, 82.5, 'A'),\n",
       " (2, 'Rama', 65, 49, 88, 90, 78, 350, 72.5, 'B'),\n",
       " (3, 'Sashi', 56, 90, 87, 67, 65, 421, 82.5, 'A'),\n",
       " (4, 'BalaRam', 89, 45, 67, 67, 65, 421, 72.5, 'B'),\n",
       " (10, 'Sanian', 78, 90, 67, 87, 78, 412, 82.5, 'A'),\n",
       " (11, 'Sushant', 78, 90, 67, 87, 78, 412, 83.5, 'A'),\n",
       " (12, 'Shushma', 78, 90, 67, 87, 78, 412, 83.5, 'A')]"
      ]
     },
     "execution_count": 6,
     "metadata": {},
     "output_type": "execute_result"
    }
   ],
   "source": [
    "db.execute(\"SELECT * FROM student\")\n",
    "result =db.fetchall()\n",
    "result"
   ]
  },
  {
   "cell_type": "code",
   "execution_count": 10,
   "id": "9910956e",
   "metadata": {},
   "outputs": [
    {
     "data": {
      "text/plain": [
       "[(1, 'Ram', 65, 89, 88, 90, 78, 412, 82.5, 'A'),\n",
       " (3, 'Sashi', 56, 90, 87, 67, 65, 421, 82.5, 'A'),\n",
       " (10, 'Sanian', 78, 90, 67, 87, 78, 412, 82.5, 'A'),\n",
       " (11, 'Sushant', 78, 90, 67, 87, 78, 412, 83.5, 'A'),\n",
       " (12, 'Shushma', 78, 90, 67, 87, 78, 412, 83.5, 'A')]"
      ]
     },
     "execution_count": 10,
     "metadata": {},
     "output_type": "execute_result"
    }
   ],
   "source": [
    "db.execute(\"SELECT * FROM student WHERE grade = 'A'\")\n",
    "result =db.fetchall()\n",
    "result"
   ]
  },
  {
   "cell_type": "code",
   "execution_count": 11,
   "id": "7d9f4625",
   "metadata": {},
   "outputs": [
    {
     "data": {
      "text/plain": [
       "[(1, 'Ram', 65, 89, 88, 90, 78, 412, 82.5, 'A'),\n",
       " (3, 'Sashi', 56, 90, 87, 67, 65, 421, 82.5, 'A'),\n",
       " (10, 'Sanian', 78, 90, 67, 87, 78, 412, 82.5, 'A'),\n",
       " (11, 'Sushant', 78, 90, 67, 87, 78, 412, 83.5, 'A'),\n",
       " (12, 'Shushma', 78, 90, 67, 87, 78, 412, 83.5, 'A')]"
      ]
     },
     "execution_count": 11,
     "metadata": {},
     "output_type": "execute_result"
    }
   ],
   "source": [
    "db.execute(\"SELECT * FROM student WHERE per > 80.0\")\n",
    "result =db.fetchall()\n",
    "result"
   ]
  },
  {
   "cell_type": "code",
   "execution_count": 8,
   "id": "eaede088",
   "metadata": {},
   "outputs": [
    {
     "data": {
      "text/plain": [
       "[(1, 'Ram', 412, 82.5, 'A'),\n",
       " (2, 'Rama', 350, 72.5, 'B'),\n",
       " (3, 'Sashi', 421, 82.5, 'A'),\n",
       " (4, 'BalaRam', 421, 72.5, 'B'),\n",
       " (10, 'Sanian', 412, 82.5, 'A'),\n",
       " (11, 'Sushant', 412, 83.5, 'A'),\n",
       " (12, 'Shushma', 412, 83.5, 'A')]"
      ]
     },
     "execution_count": 8,
     "metadata": {},
     "output_type": "execute_result"
    }
   ],
   "source": [
    "db.execute(\"SELECT sn, name,total,per,grade FROM student\")\n",
    "result =db.fetchall()\n",
    "result"
   ]
  },
  {
   "cell_type": "code",
   "execution_count": 12,
   "id": "7944829e",
   "metadata": {},
   "outputs": [],
   "source": [
    "sql = '''INSERT INTO `student` (`sn`, `name`, `physics`, `chemistry`, `math`, `english`, `nepali`, \n",
    "`total`, `per`, `grade`) VALUES ('14', 'Subina', '89', '76', '89', '67', '56', '412', '85.5', 'A')'''\n",
    "db.execute(sql)\n",
    "database.commit()"
   ]
  },
  {
   "cell_type": "code",
   "execution_count": 13,
   "id": "83202412",
   "metadata": {},
   "outputs": [
    {
     "name": "stdout",
     "output_type": "stream",
     "text": [
      "Enter n = 1\n",
      "Enter name = Guni\n",
      "Enter physics marks = 90\n",
      "Enter chemistry marks = 89\n",
      "Enter math marks = 87\n",
      "Enter english marks = 89\n",
      "Enter nepali marks = 78\n"
     ]
    }
   ],
   "source": [
    "n = int(input(\"Enter n = \"))\n",
    "for i in range(n):\n",
    "    name = input(\"Enter name = \")\n",
    "    physics = int(input(\"Enter physics marks = \"))\n",
    "    chemistry = int(input(\"Enter chemistry marks = \"))\n",
    "    math = int(input(\"Enter math marks = \"))\n",
    "    english = int(input(\"Enter english marks = \"))\n",
    "    nepali = int(input(\"Enter nepali marks = \"))\n",
    "    total = physics+chemistry+math+english+nepali\n",
    "    per = total/5\n",
    "    if per >= 80:\n",
    "        grade = 'A'\n",
    "    elif per > 60:\n",
    "        grade = 'B'\n",
    "    elif per > 45:\n",
    "        grade = 'C'\n",
    "    else:\n",
    "        grade = 'F'\n",
    "        \n",
    "    sql = f'''INSERT INTO student (name, physics, chemistry, math, english, nepali, \n",
    "    total, per, grade) VALUES ('{name}', {physics}, {chemistry}, {math}, {english}, {nepali}, \n",
    "    {total}, {per}, '{grade}')'''\n",
    "    db.execute(sql)\n",
    "database.commit()"
   ]
  },
  {
   "cell_type": "code",
   "execution_count": null,
   "id": "d9eaa46d",
   "metadata": {},
   "outputs": [],
   "source": []
  }
 ],
 "metadata": {
  "kernelspec": {
   "display_name": "Python 3 (ipykernel)",
   "language": "python",
   "name": "python3"
  },
  "language_info": {
   "codemirror_mode": {
    "name": "ipython",
    "version": 3
   },
   "file_extension": ".py",
   "mimetype": "text/x-python",
   "name": "python",
   "nbconvert_exporter": "python",
   "pygments_lexer": "ipython3",
   "version": "3.9.12"
  }
 },
 "nbformat": 4,
 "nbformat_minor": 5
}
