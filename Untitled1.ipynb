{
 "cells": [
  {
   "cell_type": "code",
   "execution_count": null,
   "id": "6d27ad53",
   "metadata": {},
   "outputs": [],
   "source": [
    "import mysql.connector\n",
    "database = mysql.connector.connect(\n",
    "    host=\"localhost\",\n",
    "    user=\"root\",\n",
    "    password=\"\",\n",
    "    database = \"python\"\n",
    ")\n",
    "db = database.cursor()\n",
    "\n",
    "class Database:\n",
    "    def __init__(self):\n",
    "            self.name = input(\"Enter name = \")\n",
    "            self.physics = int(input(\"Enter physics marks = \"))\n",
    "            self.chemistry = int(input(\"Enter chemistry marks = \"))\n",
    "            self.math = int(input(\"Enter math marks = \"))\n",
    "            self.english = int(input(\"Enter english marks = \"))\n",
    "            self.nepali = int(input(\"Enter nepali marks = \"))\n",
    "            self.total = physics+chemistry+math+english+nepali\n",
    "            self.per = total/5\n",
    "            if self.per >= 80:\n",
    "                self.grade = 'A'\n",
    "            elif self.per > 60:\n",
    "                self.grade = 'B'\n",
    "            elif self.per > 45:\n",
    "                self.grade = 'C'\n",
    "            else:\n",
    "                self.grade = 'F'\n",
    "    def insert(self):\n",
    "        sql = f'''INSERT INTO student (name, physics, chemistry, math, english, nepali, \n",
    "        total, per, grade) VALUES ('{self.name}', {self.physics}, {self.chemistry}, {self.math}, {self.english}, {nepali}, \n",
    "        {self.total}, {self.per}, '{self.grade}')'''\n",
    "        db.execute(sql)\n",
    "        database.commit()\n",
    "        \n",
    "\n",
    "obj = Database()\n",
    "obj.insert()"
   ]
  }
 ],
 "metadata": {
  "kernelspec": {
   "display_name": "Python 3 (ipykernel)",
   "language": "python",
   "name": "python3"
  },
  "language_info": {
   "codemirror_mode": {
    "name": "ipython",
    "version": 3
   },
   "file_extension": ".py",
   "mimetype": "text/x-python",
   "name": "python",
   "nbconvert_exporter": "python",
   "pygments_lexer": "ipython3",
   "version": "3.9.12"
  }
 },
 "nbformat": 4,
 "nbformat_minor": 5
}
