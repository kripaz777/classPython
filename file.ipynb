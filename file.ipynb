{
 "cells": [
  {
   "cell_type": "code",
   "execution_count": 1,
   "id": "b62527b8",
   "metadata": {},
   "outputs": [],
   "source": [
    "# file = open('<file_name>','<mode>')\n",
    "# file.close()\n",
    "\n",
    "# with open('<file_name>','<mode>') as file:\n",
    "#     <operation>"
   ]
  },
  {
   "cell_type": "code",
   "execution_count": 3,
   "id": "69bd8a82",
   "metadata": {},
   "outputs": [],
   "source": [
    "# modes\n",
    "# r ->read\n",
    "# x ->create\n",
    "# w ->write\n",
    "# a ->append"
   ]
  },
  {
   "cell_type": "code",
   "execution_count": 7,
   "id": "df27718a",
   "metadata": {},
   "outputs": [
    {
     "name": "stdout",
     "output_type": "stream",
     "text": [
      "File exists: 'data.txt'\n"
     ]
    }
   ],
   "source": [
    "try:\n",
    "    file = open('data.txt','x')\n",
    "    file.close()\n",
    "except:\n",
    "    print(\"File exists: 'data.txt'\")"
   ]
  },
  {
   "cell_type": "code",
   "execution_count": 8,
   "id": "e1e2d642",
   "metadata": {},
   "outputs": [
    {
     "name": "stdout",
     "output_type": "stream",
     "text": [
      "1.Hello World\n",
      "2.Hello World\n",
      "3.Hello World\n",
      "4.Hello World\n",
      "5.Hello World\n",
      "6.Hello World\n"
     ]
    }
   ],
   "source": [
    "file = open('data.txt','r')\n",
    "x  = file.read()\n",
    "print(x)\n",
    "file.close()"
   ]
  },
  {
   "cell_type": "code",
   "execution_count": 12,
   "id": "ca786f5a",
   "metadata": {},
   "outputs": [
    {
     "name": "stdout",
     "output_type": "stream",
     "text": [
      "['Apple 300 3 300', 'Banana 100 2 200']\n",
      "<class 'str'>\n",
      "Apple 300 3 300\n",
      "Banana 100 2 200\n"
     ]
    }
   ],
   "source": [
    "file = open('data.txt','r')\n",
    "x  = file.read()\n",
    "print(x.split('\\n'))\n",
    "print(type(x))\n",
    "print(x)\n",
    "file.close()"
   ]
  },
  {
   "cell_type": "code",
   "execution_count": 16,
   "id": "38cc40af",
   "metadata": {},
   "outputs": [
    {
     "data": {
      "text/plain": [
       "[['Apple', 300, 3, 300], ['Banana', 100, 2, 200]]"
      ]
     },
     "execution_count": 16,
     "metadata": {},
     "output_type": "execute_result"
    }
   ],
   "source": [
    "all_data = []\n",
    "file = open('data.txt','r')\n",
    "x  = file.read().split('\\n')\n",
    "for i in x:\n",
    "    y = i.split()\n",
    "    y[1] = int(y[1])\n",
    "    y[2] = int(y[2])\n",
    "    y[3] = int(y[3])\n",
    "    all_data.append(y)\n",
    "file.close()\n",
    "all_data"
   ]
  },
  {
   "cell_type": "code",
   "execution_count": 17,
   "id": "0247113f",
   "metadata": {},
   "outputs": [],
   "source": [
    "with open('data.txt','w') as file:\n",
    "    file.write('Helo World')"
   ]
  },
  {
   "cell_type": "code",
   "execution_count": 19,
   "id": "0aa85905",
   "metadata": {},
   "outputs": [
    {
     "name": "stdout",
     "output_type": "stream",
     "text": [
      "Enter n = 2\n",
      "Enter name = Apple\n",
      "Enter product price = 200\n",
      "Enter quantity = 3\n",
      "Enter name = Banana\n",
      "Enter product price = 100\n",
      "Enter quantity = 3\n",
      "Apple 200 3 600\n",
      "Banana 100 3 300\n",
      "\n"
     ]
    }
   ],
   "source": [
    "s = str()\n",
    "i = 0\n",
    "all_total = 0\n",
    "n = int(input(\"Enter n = \")) \n",
    "while i<n:\n",
    "    product = input(\"Enter name = \")\n",
    "    price = int(input(\"Enter product price = \"))\n",
    "    quantity = int(input(\"Enter quantity = \"))\n",
    "    total = price*quantity\n",
    "    all_total = all_total+total\n",
    "    s = s+f\"{product} {price} {quantity} {total}\\n\"\n",
    "    i = i+1\n",
    "print(s)\n",
    "\n",
    "with open('bill.txt','w') as file:\n",
    "    file.write(s)"
   ]
  },
  {
   "cell_type": "code",
   "execution_count": 22,
   "id": "0d309265",
   "metadata": {},
   "outputs": [
    {
     "name": "stdout",
     "output_type": "stream",
     "text": [
      "Enter n = 2\n",
      "Enter name = Apple\n",
      "Enter product price = 200\n",
      "Enter quantity = 3\n",
      "Enter name = Banana\n",
      "Enter product price = 200\n",
      "Enter quantity = 1\n",
      "Apple,200,3,600\n",
      "Banana,200,1,200\n",
      "\n"
     ]
    }
   ],
   "source": [
    "s = str()\n",
    "i = 0\n",
    "all_total = 0\n",
    "n = int(input(\"Enter n = \")) \n",
    "while i<n:\n",
    "    product = input(\"Enter name = \")\n",
    "    price = int(input(\"Enter product price = \"))\n",
    "    quantity = int(input(\"Enter quantity = \"))\n",
    "    total = price*quantity\n",
    "    all_total = all_total+total\n",
    "    s = s+f\"{product},{price},{quantity},{total}\\n\"\n",
    "    i = i+1\n",
    "print(s)\n",
    "\n",
    "with open('bill.csv','w') as file:\n",
    "    file.write('Name,Price,Quantity,Total\\n')\n",
    "    file.write(s)"
   ]
  },
  {
   "cell_type": "code",
   "execution_count": null,
   "id": "d769f511",
   "metadata": {},
   "outputs": [],
   "source": [
    "!pip install pandas"
   ]
  },
  {
   "cell_type": "code",
   "execution_count": 23,
   "id": "d6f16c04",
   "metadata": {},
   "outputs": [
    {
     "data": {
      "text/html": [
       "<div>\n",
       "<style scoped>\n",
       "    .dataframe tbody tr th:only-of-type {\n",
       "        vertical-align: middle;\n",
       "    }\n",
       "\n",
       "    .dataframe tbody tr th {\n",
       "        vertical-align: top;\n",
       "    }\n",
       "\n",
       "    .dataframe thead th {\n",
       "        text-align: right;\n",
       "    }\n",
       "</style>\n",
       "<table border=\"1\" class=\"dataframe\">\n",
       "  <thead>\n",
       "    <tr style=\"text-align: right;\">\n",
       "      <th></th>\n",
       "      <th>Name</th>\n",
       "      <th>Price</th>\n",
       "      <th>Quantity</th>\n",
       "      <th>Total</th>\n",
       "    </tr>\n",
       "  </thead>\n",
       "  <tbody>\n",
       "    <tr>\n",
       "      <th>0</th>\n",
       "      <td>Apple</td>\n",
       "      <td>200</td>\n",
       "      <td>3</td>\n",
       "      <td>600</td>\n",
       "    </tr>\n",
       "    <tr>\n",
       "      <th>1</th>\n",
       "      <td>Banana</td>\n",
       "      <td>200</td>\n",
       "      <td>1</td>\n",
       "      <td>200</td>\n",
       "    </tr>\n",
       "  </tbody>\n",
       "</table>\n",
       "</div>"
      ],
      "text/plain": [
       "     Name  Price  Quantity  Total\n",
       "0   Apple    200         3    600\n",
       "1  Banana    200         1    200"
      ]
     },
     "execution_count": 23,
     "metadata": {},
     "output_type": "execute_result"
    }
   ],
   "source": [
    "import pandas as pd\n",
    "df = pd.read_csv('bill.csv')\n",
    "df"
   ]
  },
  {
   "cell_type": "code",
   "execution_count": 21,
   "id": "e6d0759d",
   "metadata": {},
   "outputs": [
    {
     "data": {
      "text/plain": [
       "'C:\\\\Users\\\\Aayush\\\\class630am'"
      ]
     },
     "execution_count": 21,
     "metadata": {},
     "output_type": "execute_result"
    }
   ],
   "source": [
    "pwd"
   ]
  },
  {
   "cell_type": "code",
   "execution_count": null,
   "id": "dffcc625",
   "metadata": {},
   "outputs": [],
   "source": []
  }
 ],
 "metadata": {
  "kernelspec": {
   "display_name": "Python 3 (ipykernel)",
   "language": "python",
   "name": "python3"
  },
  "language_info": {
   "codemirror_mode": {
    "name": "ipython",
    "version": 3
   },
   "file_extension": ".py",
   "mimetype": "text/x-python",
   "name": "python",
   "nbconvert_exporter": "python",
   "pygments_lexer": "ipython3",
   "version": "3.9.12"
  }
 },
 "nbformat": 4,
 "nbformat_minor": 5
}
